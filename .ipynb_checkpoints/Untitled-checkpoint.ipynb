{
 "cells": [
  {
   "cell_type": "markdown",
   "metadata": {},
   "source": [
    "# Scrape minutes data for a course and calculate .. \n",
    "### How many days are needed if I choose to take 'x' minutes of the courses\n",
    "### per a day as my habit. \n",
    "source : https://www.inflearn.com/course/following-c-plus"
   ]
  },
  {
   "cell_type": "code",
   "execution_count": 139,
   "metadata": {},
   "outputs": [],
   "source": [
    "## all imports\n",
    "import urllib # urllib2 -> urllib python3\n",
    "import bs4 #this is beautiful soup"
   ]
  },
  {
   "cell_type": "code",
   "execution_count": 142,
   "metadata": {},
   "outputs": [
    {
     "data": {
      "text/plain": [
       "201"
      ]
     },
     "execution_count": 142,
     "metadata": {},
     "output_type": "execute_result"
    }
   ],
   "source": [
    "url = 'https://www.inflearn.com/course/following-c-plus'\n",
    "source = urllib.request.urlopen(url).read().decode('utf-8')  # [python3 update on using urllib] whole string\n",
    "tree = bs4.BeautifulSoup(source)\n",
    "target_html_tree = tree.find(\"article\", {\"class\": \"curriculum\"}, {\"id\": \"curriculum\"})\n",
    "\n",
    "spans = target_html_tree.find_all('span') # Beware !! the method is not findall => it's find_all\n",
    "\n",
    "span_contents = []\n",
    "\n",
    "for i in spans:\n",
    "    try:\n",
    "        if len(i.text) == 7:\n",
    "            span_contents.append(i.text)\n",
    "    except:\n",
    "        print('error occured at {}th span tag', format(i))\n",
    "\n",
    "len(span_contents)"
   ]
  },
  {
   "cell_type": "code",
   "execution_count": 143,
   "metadata": {},
   "outputs": [
    {
     "name": "stdout",
     "output_type": "stream",
     "text": [
      "You take this course for 32days, 90-mins per a day and you are done.\n"
     ]
    }
   ],
   "source": [
    "# minute_interval_data\n",
    "minuteinterval_per_course = [ int(i.split(' : ')[0]) for i in span_contents  ]\n",
    "\n",
    "# sum of course duration ( whole courses )\n",
    "minute_sum_of_course = sum(minuteinterval_per_course)\n",
    "\n",
    "# user input : how many minutes per a day (for habit)\n",
    "habit_min = 90 # 90 minutes per a day\n",
    "\n",
    "# Then how many days should I repeat to finish this course.\n",
    "print(\"You take this course for {}days, 90-mins per a day and you are done.\".format(round(minute_sum_of_course/habit_min)))"
   ]
  },
  {
   "cell_type": "markdown",
   "metadata": {},
   "source": [
    "# Take this course for 32days, 90-mins per a day. And You are done.\n",
    "## I did it to decide how many minutes of 'C++ Tutorial 'video I should take for my daily habit."
   ]
  }
 ],
 "metadata": {
  "kernelspec": {
   "display_name": "Python 3",
   "language": "python",
   "name": "python3"
  },
  "language_info": {
   "codemirror_mode": {
    "name": "ipython",
    "version": 3
   },
   "file_extension": ".py",
   "mimetype": "text/x-python",
   "name": "python",
   "nbconvert_exporter": "python",
   "pygments_lexer": "ipython3",
   "version": "3.7.1"
  }
 },
 "nbformat": 4,
 "nbformat_minor": 2
}
